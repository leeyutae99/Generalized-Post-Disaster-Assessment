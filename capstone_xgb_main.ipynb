{
  "nbformat": 4,
  "nbformat_minor": 0,
  "metadata": {
    "colab": {
      "provenance": []
    },
    "kernelspec": {
      "name": "python3",
      "display_name": "Python 3"
    },
    "language_info": {
      "name": "python"
    }
  },
  "cells": [
    {
      "cell_type": "code",
      "execution_count": null,
      "metadata": {
        "colab": {
          "base_uri": "https://localhost:8080/",
          "height": 270
        },
        "id": "5SgadTGj8wSu",
        "outputId": "6c5f4c28-5ca1-456c-f5f0-70f39e8e1b4b"
      },
      "outputs": [
        {
          "output_type": "execute_result",
          "data": {
            "text/plain": [
              "   status  number_of_stories   age  roof_mwfrs_enc  wall_cladding_enc  \\\n",
              "0     4.0                1.0  23.0            16.0                0.0   \n",
              "1     1.0                1.0  32.0            16.0               16.0   \n",
              "2     3.0                1.0  50.0            16.0            16919.0   \n",
              "3     2.0                1.0  78.0            16.0               16.0   \n",
              "4     1.0                1.0  63.0            16.0               10.0   \n",
              "\n",
              "   roof_system_enc  roof_cover_enc  foundation_type  wall_structure  \\\n",
              "0             65.0           117.0              7.0            28.0   \n",
              "1             67.0            10.0              7.0            28.0   \n",
              "2             62.0           121.0              7.0            28.0   \n",
              "3             65.0           121.0              7.0            21.0   \n",
              "4             65.0          6117.0              7.0            21.0   \n",
              "\n",
              "   soffit_type  large_door_present  \n",
              "0          1.0                 0.0  \n",
              "1          5.0                 1.0  \n",
              "2          4.0                 0.0  \n",
              "3          3.0                 0.0  \n",
              "4          4.0                 0.0  "
            ],
            "text/html": [
              "\n",
              "  <div id=\"df-f7c6822d-d540-4b3a-bf57-1a3c10275950\">\n",
              "    <div class=\"colab-df-container\">\n",
              "      <div>\n",
              "<style scoped>\n",
              "    .dataframe tbody tr th:only-of-type {\n",
              "        vertical-align: middle;\n",
              "    }\n",
              "\n",
              "    .dataframe tbody tr th {\n",
              "        vertical-align: top;\n",
              "    }\n",
              "\n",
              "    .dataframe thead th {\n",
              "        text-align: right;\n",
              "    }\n",
              "</style>\n",
              "<table border=\"1\" class=\"dataframe\">\n",
              "  <thead>\n",
              "    <tr style=\"text-align: right;\">\n",
              "      <th></th>\n",
              "      <th>status</th>\n",
              "      <th>number_of_stories</th>\n",
              "      <th>age</th>\n",
              "      <th>roof_mwfrs_enc</th>\n",
              "      <th>wall_cladding_enc</th>\n",
              "      <th>roof_system_enc</th>\n",
              "      <th>roof_cover_enc</th>\n",
              "      <th>foundation_type</th>\n",
              "      <th>wall_structure</th>\n",
              "      <th>soffit_type</th>\n",
              "      <th>large_door_present</th>\n",
              "    </tr>\n",
              "  </thead>\n",
              "  <tbody>\n",
              "    <tr>\n",
              "      <th>0</th>\n",
              "      <td>4.0</td>\n",
              "      <td>1.0</td>\n",
              "      <td>23.0</td>\n",
              "      <td>16.0</td>\n",
              "      <td>0.0</td>\n",
              "      <td>65.0</td>\n",
              "      <td>117.0</td>\n",
              "      <td>7.0</td>\n",
              "      <td>28.0</td>\n",
              "      <td>1.0</td>\n",
              "      <td>0.0</td>\n",
              "    </tr>\n",
              "    <tr>\n",
              "      <th>1</th>\n",
              "      <td>1.0</td>\n",
              "      <td>1.0</td>\n",
              "      <td>32.0</td>\n",
              "      <td>16.0</td>\n",
              "      <td>16.0</td>\n",
              "      <td>67.0</td>\n",
              "      <td>10.0</td>\n",
              "      <td>7.0</td>\n",
              "      <td>28.0</td>\n",
              "      <td>5.0</td>\n",
              "      <td>1.0</td>\n",
              "    </tr>\n",
              "    <tr>\n",
              "      <th>2</th>\n",
              "      <td>3.0</td>\n",
              "      <td>1.0</td>\n",
              "      <td>50.0</td>\n",
              "      <td>16.0</td>\n",
              "      <td>16919.0</td>\n",
              "      <td>62.0</td>\n",
              "      <td>121.0</td>\n",
              "      <td>7.0</td>\n",
              "      <td>28.0</td>\n",
              "      <td>4.0</td>\n",
              "      <td>0.0</td>\n",
              "    </tr>\n",
              "    <tr>\n",
              "      <th>3</th>\n",
              "      <td>2.0</td>\n",
              "      <td>1.0</td>\n",
              "      <td>78.0</td>\n",
              "      <td>16.0</td>\n",
              "      <td>16.0</td>\n",
              "      <td>65.0</td>\n",
              "      <td>121.0</td>\n",
              "      <td>7.0</td>\n",
              "      <td>21.0</td>\n",
              "      <td>3.0</td>\n",
              "      <td>0.0</td>\n",
              "    </tr>\n",
              "    <tr>\n",
              "      <th>4</th>\n",
              "      <td>1.0</td>\n",
              "      <td>1.0</td>\n",
              "      <td>63.0</td>\n",
              "      <td>16.0</td>\n",
              "      <td>10.0</td>\n",
              "      <td>65.0</td>\n",
              "      <td>6117.0</td>\n",
              "      <td>7.0</td>\n",
              "      <td>21.0</td>\n",
              "      <td>4.0</td>\n",
              "      <td>0.0</td>\n",
              "    </tr>\n",
              "  </tbody>\n",
              "</table>\n",
              "</div>\n",
              "      <button class=\"colab-df-convert\" onclick=\"convertToInteractive('df-f7c6822d-d540-4b3a-bf57-1a3c10275950')\"\n",
              "              title=\"Convert this dataframe to an interactive table.\"\n",
              "              style=\"display:none;\">\n",
              "        \n",
              "  <svg xmlns=\"http://www.w3.org/2000/svg\" height=\"24px\"viewBox=\"0 0 24 24\"\n",
              "       width=\"24px\">\n",
              "    <path d=\"M0 0h24v24H0V0z\" fill=\"none\"/>\n",
              "    <path d=\"M18.56 5.44l.94 2.06.94-2.06 2.06-.94-2.06-.94-.94-2.06-.94 2.06-2.06.94zm-11 1L8.5 8.5l.94-2.06 2.06-.94-2.06-.94L8.5 2.5l-.94 2.06-2.06.94zm10 10l.94 2.06.94-2.06 2.06-.94-2.06-.94-.94-2.06-.94 2.06-2.06.94z\"/><path d=\"M17.41 7.96l-1.37-1.37c-.4-.4-.92-.59-1.43-.59-.52 0-1.04.2-1.43.59L10.3 9.45l-7.72 7.72c-.78.78-.78 2.05 0 2.83L4 21.41c.39.39.9.59 1.41.59.51 0 1.02-.2 1.41-.59l7.78-7.78 2.81-2.81c.8-.78.8-2.07 0-2.86zM5.41 20L4 18.59l7.72-7.72 1.47 1.35L5.41 20z\"/>\n",
              "  </svg>\n",
              "      </button>\n",
              "      \n",
              "  <style>\n",
              "    .colab-df-container {\n",
              "      display:flex;\n",
              "      flex-wrap:wrap;\n",
              "      gap: 12px;\n",
              "    }\n",
              "\n",
              "    .colab-df-convert {\n",
              "      background-color: #E8F0FE;\n",
              "      border: none;\n",
              "      border-radius: 50%;\n",
              "      cursor: pointer;\n",
              "      display: none;\n",
              "      fill: #1967D2;\n",
              "      height: 32px;\n",
              "      padding: 0 0 0 0;\n",
              "      width: 32px;\n",
              "    }\n",
              "\n",
              "    .colab-df-convert:hover {\n",
              "      background-color: #E2EBFA;\n",
              "      box-shadow: 0px 1px 2px rgba(60, 64, 67, 0.3), 0px 1px 3px 1px rgba(60, 64, 67, 0.15);\n",
              "      fill: #174EA6;\n",
              "    }\n",
              "\n",
              "    [theme=dark] .colab-df-convert {\n",
              "      background-color: #3B4455;\n",
              "      fill: #D2E3FC;\n",
              "    }\n",
              "\n",
              "    [theme=dark] .colab-df-convert:hover {\n",
              "      background-color: #434B5C;\n",
              "      box-shadow: 0px 1px 3px 1px rgba(0, 0, 0, 0.15);\n",
              "      filter: drop-shadow(0px 1px 2px rgba(0, 0, 0, 0.3));\n",
              "      fill: #FFFFFF;\n",
              "    }\n",
              "  </style>\n",
              "\n",
              "      <script>\n",
              "        const buttonEl =\n",
              "          document.querySelector('#df-f7c6822d-d540-4b3a-bf57-1a3c10275950 button.colab-df-convert');\n",
              "        buttonEl.style.display =\n",
              "          google.colab.kernel.accessAllowed ? 'block' : 'none';\n",
              "\n",
              "        async function convertToInteractive(key) {\n",
              "          const element = document.querySelector('#df-f7c6822d-d540-4b3a-bf57-1a3c10275950');\n",
              "          const dataTable =\n",
              "            await google.colab.kernel.invokeFunction('convertToInteractive',\n",
              "                                                     [key], {});\n",
              "          if (!dataTable) return;\n",
              "\n",
              "          const docLinkHtml = 'Like what you see? Visit the ' +\n",
              "            '<a target=\"_blank\" href=https://colab.research.google.com/notebooks/data_table.ipynb>data table notebook</a>'\n",
              "            + ' to learn more about interactive tables.';\n",
              "          element.innerHTML = '';\n",
              "          dataTable['output_type'] = 'display_data';\n",
              "          await google.colab.output.renderOutput(dataTable, element);\n",
              "          const docLink = document.createElement('div');\n",
              "          docLink.innerHTML = docLinkHtml;\n",
              "          element.appendChild(docLink);\n",
              "        }\n",
              "      </script>\n",
              "    </div>\n",
              "  </div>\n",
              "  "
            ]
          },
          "metadata": {},
          "execution_count": 8
        }
      ],
      "source": [
        "import pandas as pd\n",
        "# df= pd.read_csv('/content/df_temp_with_encoding_ungrouped2.csv')\n",
        "df=pd.read_csv('/content/temp_dec2.csv')\n",
        "# df = pd.read_csv('/content/temp_dec3.csv')\n",
        "df.head()"
      ]
    },
    {
      "cell_type": "code",
      "source": [
        "df.info()"
      ],
      "metadata": {
        "colab": {
          "base_uri": "https://localhost:8080/"
        },
        "id": "8jsyloHwB7mi",
        "outputId": "7aa0147d-32c7-4aeb-a3ed-d40f64bef163"
      },
      "execution_count": null,
      "outputs": [
        {
          "output_type": "stream",
          "name": "stdout",
          "text": [
            "<class 'pandas.core.frame.DataFrame'>\n",
            "RangeIndex: 1094 entries, 0 to 1093\n",
            "Data columns (total 14 columns):\n",
            " #   Column              Non-Null Count  Dtype  \n",
            "---  ------              --------------  -----  \n",
            " 0   status              1094 non-null   float64\n",
            " 1   number_of_stories   1094 non-null   float64\n",
            " 2   age                 1094 non-null   float64\n",
            " 3   roof_mwfrs_enc      1094 non-null   float64\n",
            " 4   wall_cladding_enc   1094 non-null   float64\n",
            " 5   roof_system_enc     1094 non-null   float64\n",
            " 6   roof_cover_enc      1094 non-null   float64\n",
            " 7   foundation_type     1094 non-null   float64\n",
            " 8   wall_structure      1094 non-null   float64\n",
            " 9   soffit_type         1094 non-null   float64\n",
            " 10  large_door_present  1094 non-null   float64\n",
            " 11  predictions         1094 non-null   int64  \n",
            " 12  y_hat_minus1        1094 non-null   int64  \n",
            " 13  y_hat_plus1         1094 non-null   int64  \n",
            "dtypes: float64(11), int64(3)\n",
            "memory usage: 119.8 KB\n"
          ]
        }
      ]
    },
    {
      "cell_type": "code",
      "source": [
        "!pip install xgboost\n",
        "!pip install --upgrade xgboost"
      ],
      "metadata": {
        "colab": {
          "base_uri": "https://localhost:8080/"
        },
        "id": "QVfrZqSMC-wm",
        "outputId": "0198fd57-e196-4f1f-870b-7774948427f2"
      },
      "execution_count": null,
      "outputs": [
        {
          "output_type": "stream",
          "name": "stdout",
          "text": [
            "Looking in indexes: https://pypi.org/simple, https://us-python.pkg.dev/colab-wheels/public/simple/\n",
            "Requirement already satisfied: xgboost in /usr/local/lib/python3.7/dist-packages (0.90)\n",
            "Requirement already satisfied: scipy in /usr/local/lib/python3.7/dist-packages (from xgboost) (1.7.3)\n",
            "Requirement already satisfied: numpy in /usr/local/lib/python3.7/dist-packages (from xgboost) (1.21.6)\n",
            "Looking in indexes: https://pypi.org/simple, https://us-python.pkg.dev/colab-wheels/public/simple/\n",
            "Requirement already satisfied: xgboost in /usr/local/lib/python3.7/dist-packages (0.90)\n",
            "Collecting xgboost\n",
            "  Downloading xgboost-1.6.2-py3-none-manylinux2014_x86_64.whl (255.9 MB)\n",
            "\u001b[K     |████████████████████████████████| 255.9 MB 32 kB/s \n",
            "\u001b[?25hRequirement already satisfied: numpy in /usr/local/lib/python3.7/dist-packages (from xgboost) (1.21.6)\n",
            "Requirement already satisfied: scipy in /usr/local/lib/python3.7/dist-packages (from xgboost) (1.7.3)\n",
            "Installing collected packages: xgboost\n",
            "  Attempting uninstall: xgboost\n",
            "    Found existing installation: xgboost 0.90\n",
            "    Uninstalling xgboost-0.90:\n",
            "      Successfully uninstalled xgboost-0.90\n",
            "Successfully installed xgboost-1.6.2\n"
          ]
        }
      ]
    },
    {
      "cell_type": "code",
      "source": [
        "from sklearn.preprocessing import MinMaxScaler\n",
        "scaler = MinMaxScaler()\n",
        "df[['number_of_stories', 'age', 'roof_mwfrs_enc',\n",
        "       'wall_cladding_enc', 'roof_system_enc', 'roof_cover_enc',\n",
        "       'foundation_type', 'wall_structure', 'soffit_type',\n",
        "       'large_door_present']] = scaler.fit_transform(df[['number_of_stories', 'age', 'roof_mwfrs_enc',\n",
        "       'wall_cladding_enc', 'roof_system_enc', 'roof_cover_enc',\n",
        "       'foundation_type', 'wall_structure', 'soffit_type',\n",
        "       'large_door_present']])#,'y_hat_minus1','y_hat_plus1']])\n",
        "\n",
        "# df[['number_of_stories', 'age', 'ff_elevation', 'wall_clad',\n",
        "#        'roof_cov']] = scaler.fit_transform(df[['number_of_stories', 'age', 'ff_elevation', 'wall_clad',\n",
        "#        'roof_cov']])"
      ],
      "metadata": {
        "id": "DuzI0-8Av0CP"
      },
      "execution_count": null,
      "outputs": []
    },
    {
      "cell_type": "code",
      "source": [
        "from xgboost.core import Booster\n",
        "from xgboost import XGBClassifier\n",
        "from sklearn.model_selection import train_test_split\n",
        "from sklearn.metrics import accuracy_score,confusion_matrix\n",
        "from sklearn.model_selection import GridSearchCV\n",
        "from sklearn.model_selection import KFold,cross_val_score\n",
        "\n",
        "# split data into X and y\n",
        "# X = df[['number_of_stories', 'age', 'ff_elevation', 'wall_clad',\n",
        "#        'roof_cov']]\n",
        "X = df[['number_of_stories','age','roof_mwfrs_enc','wall_cladding_enc','roof_system_enc','roof_cover_enc','foundation_type','wall_structure','soffit_type','large_door_present']]#,'predictions','list_minus']]\n",
        "Y = df[['status']]\n",
        "\n",
        "# split data into train and test sets\n",
        "seed = 8\n",
        "test_size = 0.2\n",
        "X_train, X_test, y_train, y_test = train_test_split(X, Y, test_size=test_size, random_state=seed)\n",
        "\n",
        "# fit model no training data\n",
        "model = XGBClassifier(learning_rate=0.01, n_estimators=600, nthread=2,booster='gbtree',)\n",
        "model.fit(X_train, y_train)\n",
        "\n",
        "# make predictions for test data\n",
        "y_pred = model.predict(X_test)\n",
        "predictions = [round(value) for value in y_pred]\n",
        "\n",
        "# evaluate predictions\n",
        "accuracy = accuracy_score(predictions,y_test )\n",
        "print(\"Accuracy: %.2f%%\" % (accuracy * 100.0))\n",
        "print(confusion_matrix(predictions,y_test))"
      ],
      "metadata": {
        "colab": {
          "base_uri": "https://localhost:8080/"
        },
        "id": "KpY2CAXpDEMd",
        "outputId": "165890a2-0fb7-4e2c-fb2e-d6750963e702"
      },
      "execution_count": null,
      "outputs": [
        {
          "output_type": "stream",
          "name": "stdout",
          "text": [
            "Accuracy: 52.05%\n",
            "[[ 5  1  0  0  1]\n",
            " [ 8 26 17  5  3]\n",
            " [ 3 16 25 10  6]\n",
            " [ 1  1  3 15  6]\n",
            " [ 9  2  6  7 43]]\n"
          ]
        }
      ]
    },
    {
      "cell_type": "code",
      "source": [],
      "metadata": {
        "id": "1H75bzOHLUgU"
      },
      "execution_count": null,
      "outputs": []
    },
    {
      "cell_type": "markdown",
      "source": [
        "### Cross class classification analysis\n",
        "##### Should be run after creating Stat_comp column "
      ],
      "metadata": {
        "id": "Ze_ajIGisCnU"
      }
    },
    {
      "cell_type": "code",
      "source": [
        "m1 = []\n",
        "for i in y_pred:\n",
        "  temp = []\n",
        "  temp.append(i-1)\n",
        "  temp.append(i)\n",
        "  temp.append(i+1)\n",
        "  m1.append(temp)\n",
        "\n",
        "y_test = y_test['status'].tolist()\n",
        "cnt = 0\n",
        "for i in range (0,len(y_test)):\n",
        "  if y_test[i] in m1[i]:\n",
        "    cnt+=1\n",
        "\n",
        "(cnt/len(y_test))*100\n",
        "\n"
      ],
      "metadata": {
        "colab": {
          "base_uri": "https://localhost:8080/"
        },
        "id": "BTWLU2R_9QcR",
        "outputId": "ce370e14-b22f-48d5-d862-206b54469cd8"
      },
      "execution_count": null,
      "outputs": [
        {
          "output_type": "execute_result",
          "data": {
            "text/plain": [
              "67.57990867579909"
            ]
          },
          "metadata": {},
          "execution_count": 147
        }
      ]
    },
    {
      "cell_type": "markdown",
      "source": [
        "### Predicting on whole model"
      ],
      "metadata": {
        "id": "L6W8ddSRsNQz"
      }
    },
    {
      "cell_type": "code",
      "source": [
        "y_pred = model.predict(X)"
      ],
      "metadata": {
        "id": "ZfYwh8sNwCJ3"
      },
      "execution_count": null,
      "outputs": []
    },
    {
      "cell_type": "code",
      "source": [
        "len(y_pred)"
      ],
      "metadata": {
        "colab": {
          "base_uri": "https://localhost:8080/"
        },
        "id": "0-x4Y0iRGDLw",
        "outputId": "b60a6f41-98b2-47cf-e0b6-edbb8e744e2b"
      },
      "execution_count": null,
      "outputs": [
        {
          "output_type": "execute_result",
          "data": {
            "text/plain": [
              "1094"
            ]
          },
          "metadata": {},
          "execution_count": 121
        }
      ]
    },
    {
      "cell_type": "code",
      "source": [
        "# df['new_col'] = np.array(mylist)\n",
        "import numpy as np\n",
        "df['predictions'] = np.array(y_pred)\n",
        "df"
      ],
      "metadata": {
        "colab": {
          "base_uri": "https://localhost:8080/",
          "height": 488
        },
        "id": "bXJB0JRnuxGj",
        "outputId": "64d23b61-0961-4b65-ef9a-225fdc622c73"
      },
      "execution_count": null,
      "outputs": [
        {
          "output_type": "execute_result",
          "data": {
            "text/plain": [
              "      status  number_of_stories       age  roof_mwfrs_enc  wall_cladding_enc  \\\n",
              "0        4.0               0.04  0.194915    8.600093e-09           0.000000   \n",
              "1        1.0               0.04  0.271186    8.600093e-09           0.000099   \n",
              "2        3.0               0.04  0.423729    8.600093e-09           0.104228   \n",
              "3        2.0               0.04  0.661017    8.600093e-09           0.000099   \n",
              "4        1.0               0.04  0.533898    8.600093e-09           0.000062   \n",
              "...      ...                ...       ...             ...                ...   \n",
              "1089     3.0               0.08  0.033898    9.999970e-04           0.000062   \n",
              "1090     4.0               0.04  0.008475    9.999970e-04           0.000062   \n",
              "1091     4.0               0.04  0.008475    9.999983e-04           0.000062   \n",
              "1092     0.0               0.04  0.008475    9.999970e-04           0.000062   \n",
              "1093     2.0               0.04  0.088136    9.995954e-06           0.000117   \n",
              "\n",
              "      roof_system_enc  roof_cover_enc  foundation_type  wall_structure  \\\n",
              "0            0.000681        0.000999         0.466667        0.777778   \n",
              "1            0.000703        0.000085         0.466667        0.777778   \n",
              "2            0.000648        0.001033         0.466667        0.777778   \n",
              "3            0.000681        0.001033         0.466667        0.583333   \n",
              "4            0.000681        0.052228         0.466667        0.583333   \n",
              "...               ...             ...              ...             ...   \n",
              "1089         0.068769        0.000999         0.466667        0.583333   \n",
              "1090         0.000703        0.000162         0.466667        0.583333   \n",
              "1091         0.000703        0.000162         0.466667        0.583333   \n",
              "1092         0.000703        0.000213         0.466667        0.666667   \n",
              "1093         0.000703        0.001033         0.000000        0.777778   \n",
              "\n",
              "      soffit_type  large_door_present  predictions  \n",
              "0             0.2                 0.0            2  \n",
              "1             1.0                 1.0            1  \n",
              "2             0.8                 0.0            3  \n",
              "3             0.6                 0.0            2  \n",
              "4             0.8                 0.0            2  \n",
              "...           ...                 ...          ...  \n",
              "1089          1.0                 0.0            3  \n",
              "1090          1.0                 0.0            4  \n",
              "1091          1.0                 0.0            4  \n",
              "1092          0.2                 0.0            4  \n",
              "1093          0.2                 0.0            2  \n",
              "\n",
              "[1094 rows x 12 columns]"
            ],
            "text/html": [
              "\n",
              "  <div id=\"df-04d6f4ac-31ed-4ef0-aadb-2336a33060cc\">\n",
              "    <div class=\"colab-df-container\">\n",
              "      <div>\n",
              "<style scoped>\n",
              "    .dataframe tbody tr th:only-of-type {\n",
              "        vertical-align: middle;\n",
              "    }\n",
              "\n",
              "    .dataframe tbody tr th {\n",
              "        vertical-align: top;\n",
              "    }\n",
              "\n",
              "    .dataframe thead th {\n",
              "        text-align: right;\n",
              "    }\n",
              "</style>\n",
              "<table border=\"1\" class=\"dataframe\">\n",
              "  <thead>\n",
              "    <tr style=\"text-align: right;\">\n",
              "      <th></th>\n",
              "      <th>status</th>\n",
              "      <th>number_of_stories</th>\n",
              "      <th>age</th>\n",
              "      <th>roof_mwfrs_enc</th>\n",
              "      <th>wall_cladding_enc</th>\n",
              "      <th>roof_system_enc</th>\n",
              "      <th>roof_cover_enc</th>\n",
              "      <th>foundation_type</th>\n",
              "      <th>wall_structure</th>\n",
              "      <th>soffit_type</th>\n",
              "      <th>large_door_present</th>\n",
              "      <th>predictions</th>\n",
              "    </tr>\n",
              "  </thead>\n",
              "  <tbody>\n",
              "    <tr>\n",
              "      <th>0</th>\n",
              "      <td>4.0</td>\n",
              "      <td>0.04</td>\n",
              "      <td>0.194915</td>\n",
              "      <td>8.600093e-09</td>\n",
              "      <td>0.000000</td>\n",
              "      <td>0.000681</td>\n",
              "      <td>0.000999</td>\n",
              "      <td>0.466667</td>\n",
              "      <td>0.777778</td>\n",
              "      <td>0.2</td>\n",
              "      <td>0.0</td>\n",
              "      <td>2</td>\n",
              "    </tr>\n",
              "    <tr>\n",
              "      <th>1</th>\n",
              "      <td>1.0</td>\n",
              "      <td>0.04</td>\n",
              "      <td>0.271186</td>\n",
              "      <td>8.600093e-09</td>\n",
              "      <td>0.000099</td>\n",
              "      <td>0.000703</td>\n",
              "      <td>0.000085</td>\n",
              "      <td>0.466667</td>\n",
              "      <td>0.777778</td>\n",
              "      <td>1.0</td>\n",
              "      <td>1.0</td>\n",
              "      <td>1</td>\n",
              "    </tr>\n",
              "    <tr>\n",
              "      <th>2</th>\n",
              "      <td>3.0</td>\n",
              "      <td>0.04</td>\n",
              "      <td>0.423729</td>\n",
              "      <td>8.600093e-09</td>\n",
              "      <td>0.104228</td>\n",
              "      <td>0.000648</td>\n",
              "      <td>0.001033</td>\n",
              "      <td>0.466667</td>\n",
              "      <td>0.777778</td>\n",
              "      <td>0.8</td>\n",
              "      <td>0.0</td>\n",
              "      <td>3</td>\n",
              "    </tr>\n",
              "    <tr>\n",
              "      <th>3</th>\n",
              "      <td>2.0</td>\n",
              "      <td>0.04</td>\n",
              "      <td>0.661017</td>\n",
              "      <td>8.600093e-09</td>\n",
              "      <td>0.000099</td>\n",
              "      <td>0.000681</td>\n",
              "      <td>0.001033</td>\n",
              "      <td>0.466667</td>\n",
              "      <td>0.583333</td>\n",
              "      <td>0.6</td>\n",
              "      <td>0.0</td>\n",
              "      <td>2</td>\n",
              "    </tr>\n",
              "    <tr>\n",
              "      <th>4</th>\n",
              "      <td>1.0</td>\n",
              "      <td>0.04</td>\n",
              "      <td>0.533898</td>\n",
              "      <td>8.600093e-09</td>\n",
              "      <td>0.000062</td>\n",
              "      <td>0.000681</td>\n",
              "      <td>0.052228</td>\n",
              "      <td>0.466667</td>\n",
              "      <td>0.583333</td>\n",
              "      <td>0.8</td>\n",
              "      <td>0.0</td>\n",
              "      <td>2</td>\n",
              "    </tr>\n",
              "    <tr>\n",
              "      <th>...</th>\n",
              "      <td>...</td>\n",
              "      <td>...</td>\n",
              "      <td>...</td>\n",
              "      <td>...</td>\n",
              "      <td>...</td>\n",
              "      <td>...</td>\n",
              "      <td>...</td>\n",
              "      <td>...</td>\n",
              "      <td>...</td>\n",
              "      <td>...</td>\n",
              "      <td>...</td>\n",
              "      <td>...</td>\n",
              "    </tr>\n",
              "    <tr>\n",
              "      <th>1089</th>\n",
              "      <td>3.0</td>\n",
              "      <td>0.08</td>\n",
              "      <td>0.033898</td>\n",
              "      <td>9.999970e-04</td>\n",
              "      <td>0.000062</td>\n",
              "      <td>0.068769</td>\n",
              "      <td>0.000999</td>\n",
              "      <td>0.466667</td>\n",
              "      <td>0.583333</td>\n",
              "      <td>1.0</td>\n",
              "      <td>0.0</td>\n",
              "      <td>3</td>\n",
              "    </tr>\n",
              "    <tr>\n",
              "      <th>1090</th>\n",
              "      <td>4.0</td>\n",
              "      <td>0.04</td>\n",
              "      <td>0.008475</td>\n",
              "      <td>9.999970e-04</td>\n",
              "      <td>0.000062</td>\n",
              "      <td>0.000703</td>\n",
              "      <td>0.000162</td>\n",
              "      <td>0.466667</td>\n",
              "      <td>0.583333</td>\n",
              "      <td>1.0</td>\n",
              "      <td>0.0</td>\n",
              "      <td>4</td>\n",
              "    </tr>\n",
              "    <tr>\n",
              "      <th>1091</th>\n",
              "      <td>4.0</td>\n",
              "      <td>0.04</td>\n",
              "      <td>0.008475</td>\n",
              "      <td>9.999983e-04</td>\n",
              "      <td>0.000062</td>\n",
              "      <td>0.000703</td>\n",
              "      <td>0.000162</td>\n",
              "      <td>0.466667</td>\n",
              "      <td>0.583333</td>\n",
              "      <td>1.0</td>\n",
              "      <td>0.0</td>\n",
              "      <td>4</td>\n",
              "    </tr>\n",
              "    <tr>\n",
              "      <th>1092</th>\n",
              "      <td>0.0</td>\n",
              "      <td>0.04</td>\n",
              "      <td>0.008475</td>\n",
              "      <td>9.999970e-04</td>\n",
              "      <td>0.000062</td>\n",
              "      <td>0.000703</td>\n",
              "      <td>0.000213</td>\n",
              "      <td>0.466667</td>\n",
              "      <td>0.666667</td>\n",
              "      <td>0.2</td>\n",
              "      <td>0.0</td>\n",
              "      <td>4</td>\n",
              "    </tr>\n",
              "    <tr>\n",
              "      <th>1093</th>\n",
              "      <td>2.0</td>\n",
              "      <td>0.04</td>\n",
              "      <td>0.088136</td>\n",
              "      <td>9.995954e-06</td>\n",
              "      <td>0.000117</td>\n",
              "      <td>0.000703</td>\n",
              "      <td>0.001033</td>\n",
              "      <td>0.000000</td>\n",
              "      <td>0.777778</td>\n",
              "      <td>0.2</td>\n",
              "      <td>0.0</td>\n",
              "      <td>2</td>\n",
              "    </tr>\n",
              "  </tbody>\n",
              "</table>\n",
              "<p>1094 rows × 12 columns</p>\n",
              "</div>\n",
              "      <button class=\"colab-df-convert\" onclick=\"convertToInteractive('df-04d6f4ac-31ed-4ef0-aadb-2336a33060cc')\"\n",
              "              title=\"Convert this dataframe to an interactive table.\"\n",
              "              style=\"display:none;\">\n",
              "        \n",
              "  <svg xmlns=\"http://www.w3.org/2000/svg\" height=\"24px\"viewBox=\"0 0 24 24\"\n",
              "       width=\"24px\">\n",
              "    <path d=\"M0 0h24v24H0V0z\" fill=\"none\"/>\n",
              "    <path d=\"M18.56 5.44l.94 2.06.94-2.06 2.06-.94-2.06-.94-.94-2.06-.94 2.06-2.06.94zm-11 1L8.5 8.5l.94-2.06 2.06-.94-2.06-.94L8.5 2.5l-.94 2.06-2.06.94zm10 10l.94 2.06.94-2.06 2.06-.94-2.06-.94-.94-2.06-.94 2.06-2.06.94z\"/><path d=\"M17.41 7.96l-1.37-1.37c-.4-.4-.92-.59-1.43-.59-.52 0-1.04.2-1.43.59L10.3 9.45l-7.72 7.72c-.78.78-.78 2.05 0 2.83L4 21.41c.39.39.9.59 1.41.59.51 0 1.02-.2 1.41-.59l7.78-7.78 2.81-2.81c.8-.78.8-2.07 0-2.86zM5.41 20L4 18.59l7.72-7.72 1.47 1.35L5.41 20z\"/>\n",
              "  </svg>\n",
              "      </button>\n",
              "      \n",
              "  <style>\n",
              "    .colab-df-container {\n",
              "      display:flex;\n",
              "      flex-wrap:wrap;\n",
              "      gap: 12px;\n",
              "    }\n",
              "\n",
              "    .colab-df-convert {\n",
              "      background-color: #E8F0FE;\n",
              "      border: none;\n",
              "      border-radius: 50%;\n",
              "      cursor: pointer;\n",
              "      display: none;\n",
              "      fill: #1967D2;\n",
              "      height: 32px;\n",
              "      padding: 0 0 0 0;\n",
              "      width: 32px;\n",
              "    }\n",
              "\n",
              "    .colab-df-convert:hover {\n",
              "      background-color: #E2EBFA;\n",
              "      box-shadow: 0px 1px 2px rgba(60, 64, 67, 0.3), 0px 1px 3px 1px rgba(60, 64, 67, 0.15);\n",
              "      fill: #174EA6;\n",
              "    }\n",
              "\n",
              "    [theme=dark] .colab-df-convert {\n",
              "      background-color: #3B4455;\n",
              "      fill: #D2E3FC;\n",
              "    }\n",
              "\n",
              "    [theme=dark] .colab-df-convert:hover {\n",
              "      background-color: #434B5C;\n",
              "      box-shadow: 0px 1px 3px 1px rgba(0, 0, 0, 0.15);\n",
              "      filter: drop-shadow(0px 1px 2px rgba(0, 0, 0, 0.3));\n",
              "      fill: #FFFFFF;\n",
              "    }\n",
              "  </style>\n",
              "\n",
              "      <script>\n",
              "        const buttonEl =\n",
              "          document.querySelector('#df-04d6f4ac-31ed-4ef0-aadb-2336a33060cc button.colab-df-convert');\n",
              "        buttonEl.style.display =\n",
              "          google.colab.kernel.accessAllowed ? 'block' : 'none';\n",
              "\n",
              "        async function convertToInteractive(key) {\n",
              "          const element = document.querySelector('#df-04d6f4ac-31ed-4ef0-aadb-2336a33060cc');\n",
              "          const dataTable =\n",
              "            await google.colab.kernel.invokeFunction('convertToInteractive',\n",
              "                                                     [key], {});\n",
              "          if (!dataTable) return;\n",
              "\n",
              "          const docLinkHtml = 'Like what you see? Visit the ' +\n",
              "            '<a target=\"_blank\" href=https://colab.research.google.com/notebooks/data_table.ipynb>data table notebook</a>'\n",
              "            + ' to learn more about interactive tables.';\n",
              "          element.innerHTML = '';\n",
              "          dataTable['output_type'] = 'display_data';\n",
              "          await google.colab.output.renderOutput(dataTable, element);\n",
              "          const docLink = document.createElement('div');\n",
              "          docLink.innerHTML = docLinkHtml;\n",
              "          element.appendChild(docLink);\n",
              "        }\n",
              "      </script>\n",
              "    </div>\n",
              "  </div>\n",
              "  "
            ]
          },
          "metadata": {},
          "execution_count": 14
        }
      ]
    },
    {
      "cell_type": "code",
      "source": [
        "df['y_hat_minus1'] = df['predictions']-1\n",
        "df['y_hat_plus1'] = df['predictions']+1"
      ],
      "metadata": {
        "id": "DTYlyNljukIv"
      },
      "execution_count": null,
      "outputs": []
    },
    {
      "cell_type": "code",
      "source": [
        "list_minus = []\n",
        "for i in range (0,len(df)):\n",
        "  if df.status[i] in df.stat_comp[i]:\n",
        "    list_minus.append(df.status[i])\n",
        "  else:\n",
        "    list_minus.append(df.predictions[i])\n",
        "df['list_minus'] = list_minus"
      ],
      "metadata": {
        "id": "MqE5awjAwJ_c"
      },
      "execution_count": null,
      "outputs": []
    },
    {
      "cell_type": "code",
      "source": [
        "list_plus = []\n",
        "for i in range (0,len(df)):\n",
        "  if df.status[i] in df.stat_comp[i]:\n",
        "    list_plus.append(df.status[i])\n",
        "  else:\n",
        "    list_plus.append(df.predictions[i])\n",
        "df['list_plus'] = list_plus"
      ],
      "metadata": {
        "id": "dN3QRR3rPrwd"
      },
      "execution_count": null,
      "outputs": []
    },
    {
      "cell_type": "code",
      "source": [
        "# evaluate predictions\n",
        "accuracy = accuracy_score(df.status, df.y_hat_plus1)\n",
        "print(\"Accuracy: %.2f%%\" % (accuracy * 100.0))\n",
        "print(confusion_matrix(df.status, df.y_hat_plus1))"
      ],
      "metadata": {
        "colab": {
          "base_uri": "https://localhost:8080/"
        },
        "id": "aruUIHYPwhIi",
        "outputId": "85875d9a-7417-48b5-fc57-2cc1bb8899d3"
      },
      "execution_count": null,
      "outputs": [
        {
          "output_type": "stream",
          "name": "stdout",
          "text": [
            "Accuracy: 11.71%\n",
            "[[  0 133  87  30   6  36]\n",
            " [  0  28 512  96  14  73]\n",
            " [  0  24 146 259  13  70]\n",
            " [  0   7  62  55  81  70]\n",
            " [  0   6  43  28  30 303]\n",
            " [  0   0   0   0   0   0]]\n"
          ]
        }
      ]
    },
    {
      "cell_type": "code",
      "source": [
        "tr1 = df.status.tolist()\n",
        "tr2  = df.y_hat_minus1.tolist()"
      ],
      "metadata": {
        "id": "HIGX62wfwvP_"
      },
      "execution_count": null,
      "outputs": []
    },
    {
      "cell_type": "code",
      "source": [
        "df.head()"
      ],
      "metadata": {
        "colab": {
          "base_uri": "https://localhost:8080/",
          "height": 270
        },
        "id": "lI8Yts_V09bD",
        "outputId": "0f5cecc8-6d41-47ec-d31f-b7c324ccab9b"
      },
      "execution_count": null,
      "outputs": [
        {
          "output_type": "execute_result",
          "data": {
            "text/plain": [
              "   status  number_of_stories       age  roof_mwfrs_enc  wall_cladding_enc  \\\n",
              "0     4.0               0.04  0.194915    8.600093e-09           0.000000   \n",
              "1     1.0               0.04  0.271186    8.600093e-09           0.000099   \n",
              "2     3.0               0.04  0.423729    8.600093e-09           0.104228   \n",
              "3     2.0               0.04  0.661017    8.600093e-09           0.000099   \n",
              "4     1.0               0.04  0.533898    8.600093e-09           0.000062   \n",
              "\n",
              "   roof_system_enc  roof_cover_enc  foundation_type  wall_structure  \\\n",
              "0         0.000681        0.000999         0.466667        0.777778   \n",
              "1         0.000703        0.000085         0.466667        0.777778   \n",
              "2         0.000648        0.001033         0.466667        0.777778   \n",
              "3         0.000681        0.001033         0.466667        0.583333   \n",
              "4         0.000681        0.052228         0.466667        0.583333   \n",
              "\n",
              "   soffit_type  large_door_present  predictions  y_hat_minus1 stat_comp  \\\n",
              "0          0.2                 0.0            2             1    [2, 3]   \n",
              "1          1.0                 1.0            1             0    [1, 2]   \n",
              "2          0.8                 0.0            3             2    [3, 4]   \n",
              "3          0.6                 0.0            2             1    [2, 3]   \n",
              "4          0.8                 0.0            2             1    [2, 3]   \n",
              "\n",
              "   list_minus  y_hat_plus1  list_plus  \n",
              "0         2.0            3        2.0  \n",
              "1         1.0            2        1.0  \n",
              "2         3.0            4        3.0  \n",
              "3         2.0            3        2.0  \n",
              "4         1.0            3        2.0  "
            ],
            "text/html": [
              "\n",
              "  <div id=\"df-1f16976f-1292-4bd3-a482-b3d18be981b6\">\n",
              "    <div class=\"colab-df-container\">\n",
              "      <div>\n",
              "<style scoped>\n",
              "    .dataframe tbody tr th:only-of-type {\n",
              "        vertical-align: middle;\n",
              "    }\n",
              "\n",
              "    .dataframe tbody tr th {\n",
              "        vertical-align: top;\n",
              "    }\n",
              "\n",
              "    .dataframe thead th {\n",
              "        text-align: right;\n",
              "    }\n",
              "</style>\n",
              "<table border=\"1\" class=\"dataframe\">\n",
              "  <thead>\n",
              "    <tr style=\"text-align: right;\">\n",
              "      <th></th>\n",
              "      <th>status</th>\n",
              "      <th>number_of_stories</th>\n",
              "      <th>age</th>\n",
              "      <th>roof_mwfrs_enc</th>\n",
              "      <th>wall_cladding_enc</th>\n",
              "      <th>roof_system_enc</th>\n",
              "      <th>roof_cover_enc</th>\n",
              "      <th>foundation_type</th>\n",
              "      <th>wall_structure</th>\n",
              "      <th>soffit_type</th>\n",
              "      <th>large_door_present</th>\n",
              "      <th>predictions</th>\n",
              "      <th>y_hat_minus1</th>\n",
              "      <th>stat_comp</th>\n",
              "      <th>list_minus</th>\n",
              "      <th>y_hat_plus1</th>\n",
              "      <th>list_plus</th>\n",
              "    </tr>\n",
              "  </thead>\n",
              "  <tbody>\n",
              "    <tr>\n",
              "      <th>0</th>\n",
              "      <td>4.0</td>\n",
              "      <td>0.04</td>\n",
              "      <td>0.194915</td>\n",
              "      <td>8.600093e-09</td>\n",
              "      <td>0.000000</td>\n",
              "      <td>0.000681</td>\n",
              "      <td>0.000999</td>\n",
              "      <td>0.466667</td>\n",
              "      <td>0.777778</td>\n",
              "      <td>0.2</td>\n",
              "      <td>0.0</td>\n",
              "      <td>2</td>\n",
              "      <td>1</td>\n",
              "      <td>[2, 3]</td>\n",
              "      <td>2.0</td>\n",
              "      <td>3</td>\n",
              "      <td>2.0</td>\n",
              "    </tr>\n",
              "    <tr>\n",
              "      <th>1</th>\n",
              "      <td>1.0</td>\n",
              "      <td>0.04</td>\n",
              "      <td>0.271186</td>\n",
              "      <td>8.600093e-09</td>\n",
              "      <td>0.000099</td>\n",
              "      <td>0.000703</td>\n",
              "      <td>0.000085</td>\n",
              "      <td>0.466667</td>\n",
              "      <td>0.777778</td>\n",
              "      <td>1.0</td>\n",
              "      <td>1.0</td>\n",
              "      <td>1</td>\n",
              "      <td>0</td>\n",
              "      <td>[1, 2]</td>\n",
              "      <td>1.0</td>\n",
              "      <td>2</td>\n",
              "      <td>1.0</td>\n",
              "    </tr>\n",
              "    <tr>\n",
              "      <th>2</th>\n",
              "      <td>3.0</td>\n",
              "      <td>0.04</td>\n",
              "      <td>0.423729</td>\n",
              "      <td>8.600093e-09</td>\n",
              "      <td>0.104228</td>\n",
              "      <td>0.000648</td>\n",
              "      <td>0.001033</td>\n",
              "      <td>0.466667</td>\n",
              "      <td>0.777778</td>\n",
              "      <td>0.8</td>\n",
              "      <td>0.0</td>\n",
              "      <td>3</td>\n",
              "      <td>2</td>\n",
              "      <td>[3, 4]</td>\n",
              "      <td>3.0</td>\n",
              "      <td>4</td>\n",
              "      <td>3.0</td>\n",
              "    </tr>\n",
              "    <tr>\n",
              "      <th>3</th>\n",
              "      <td>2.0</td>\n",
              "      <td>0.04</td>\n",
              "      <td>0.661017</td>\n",
              "      <td>8.600093e-09</td>\n",
              "      <td>0.000099</td>\n",
              "      <td>0.000681</td>\n",
              "      <td>0.001033</td>\n",
              "      <td>0.466667</td>\n",
              "      <td>0.583333</td>\n",
              "      <td>0.6</td>\n",
              "      <td>0.0</td>\n",
              "      <td>2</td>\n",
              "      <td>1</td>\n",
              "      <td>[2, 3]</td>\n",
              "      <td>2.0</td>\n",
              "      <td>3</td>\n",
              "      <td>2.0</td>\n",
              "    </tr>\n",
              "    <tr>\n",
              "      <th>4</th>\n",
              "      <td>1.0</td>\n",
              "      <td>0.04</td>\n",
              "      <td>0.533898</td>\n",
              "      <td>8.600093e-09</td>\n",
              "      <td>0.000062</td>\n",
              "      <td>0.000681</td>\n",
              "      <td>0.052228</td>\n",
              "      <td>0.466667</td>\n",
              "      <td>0.583333</td>\n",
              "      <td>0.8</td>\n",
              "      <td>0.0</td>\n",
              "      <td>2</td>\n",
              "      <td>1</td>\n",
              "      <td>[2, 3]</td>\n",
              "      <td>1.0</td>\n",
              "      <td>3</td>\n",
              "      <td>2.0</td>\n",
              "    </tr>\n",
              "  </tbody>\n",
              "</table>\n",
              "</div>\n",
              "      <button class=\"colab-df-convert\" onclick=\"convertToInteractive('df-1f16976f-1292-4bd3-a482-b3d18be981b6')\"\n",
              "              title=\"Convert this dataframe to an interactive table.\"\n",
              "              style=\"display:none;\">\n",
              "        \n",
              "  <svg xmlns=\"http://www.w3.org/2000/svg\" height=\"24px\"viewBox=\"0 0 24 24\"\n",
              "       width=\"24px\">\n",
              "    <path d=\"M0 0h24v24H0V0z\" fill=\"none\"/>\n",
              "    <path d=\"M18.56 5.44l.94 2.06.94-2.06 2.06-.94-2.06-.94-.94-2.06-.94 2.06-2.06.94zm-11 1L8.5 8.5l.94-2.06 2.06-.94-2.06-.94L8.5 2.5l-.94 2.06-2.06.94zm10 10l.94 2.06.94-2.06 2.06-.94-2.06-.94-.94-2.06-.94 2.06-2.06.94z\"/><path d=\"M17.41 7.96l-1.37-1.37c-.4-.4-.92-.59-1.43-.59-.52 0-1.04.2-1.43.59L10.3 9.45l-7.72 7.72c-.78.78-.78 2.05 0 2.83L4 21.41c.39.39.9.59 1.41.59.51 0 1.02-.2 1.41-.59l7.78-7.78 2.81-2.81c.8-.78.8-2.07 0-2.86zM5.41 20L4 18.59l7.72-7.72 1.47 1.35L5.41 20z\"/>\n",
              "  </svg>\n",
              "      </button>\n",
              "      \n",
              "  <style>\n",
              "    .colab-df-container {\n",
              "      display:flex;\n",
              "      flex-wrap:wrap;\n",
              "      gap: 12px;\n",
              "    }\n",
              "\n",
              "    .colab-df-convert {\n",
              "      background-color: #E8F0FE;\n",
              "      border: none;\n",
              "      border-radius: 50%;\n",
              "      cursor: pointer;\n",
              "      display: none;\n",
              "      fill: #1967D2;\n",
              "      height: 32px;\n",
              "      padding: 0 0 0 0;\n",
              "      width: 32px;\n",
              "    }\n",
              "\n",
              "    .colab-df-convert:hover {\n",
              "      background-color: #E2EBFA;\n",
              "      box-shadow: 0px 1px 2px rgba(60, 64, 67, 0.3), 0px 1px 3px 1px rgba(60, 64, 67, 0.15);\n",
              "      fill: #174EA6;\n",
              "    }\n",
              "\n",
              "    [theme=dark] .colab-df-convert {\n",
              "      background-color: #3B4455;\n",
              "      fill: #D2E3FC;\n",
              "    }\n",
              "\n",
              "    [theme=dark] .colab-df-convert:hover {\n",
              "      background-color: #434B5C;\n",
              "      box-shadow: 0px 1px 3px 1px rgba(0, 0, 0, 0.15);\n",
              "      filter: drop-shadow(0px 1px 2px rgba(0, 0, 0, 0.3));\n",
              "      fill: #FFFFFF;\n",
              "    }\n",
              "  </style>\n",
              "\n",
              "      <script>\n",
              "        const buttonEl =\n",
              "          document.querySelector('#df-1f16976f-1292-4bd3-a482-b3d18be981b6 button.colab-df-convert');\n",
              "        buttonEl.style.display =\n",
              "          google.colab.kernel.accessAllowed ? 'block' : 'none';\n",
              "\n",
              "        async function convertToInteractive(key) {\n",
              "          const element = document.querySelector('#df-1f16976f-1292-4bd3-a482-b3d18be981b6');\n",
              "          const dataTable =\n",
              "            await google.colab.kernel.invokeFunction('convertToInteractive',\n",
              "                                                     [key], {});\n",
              "          if (!dataTable) return;\n",
              "\n",
              "          const docLinkHtml = 'Like what you see? Visit the ' +\n",
              "            '<a target=\"_blank\" href=https://colab.research.google.com/notebooks/data_table.ipynb>data table notebook</a>'\n",
              "            + ' to learn more about interactive tables.';\n",
              "          element.innerHTML = '';\n",
              "          dataTable['output_type'] = 'display_data';\n",
              "          await google.colab.output.renderOutput(dataTable, element);\n",
              "          const docLink = document.createElement('div');\n",
              "          docLink.innerHTML = docLinkHtml;\n",
              "          element.appendChild(docLink);\n",
              "        }\n",
              "      </script>\n",
              "    </div>\n",
              "  </div>\n",
              "  "
            ]
          },
          "metadata": {},
          "execution_count": 179
        }
      ]
    },
    {
      "cell_type": "code",
      "source": [],
      "metadata": {
        "id": "V2ZaXOHl09U_"
      },
      "execution_count": null,
      "outputs": []
    },
    {
      "cell_type": "code",
      "source": [
        "set_status = []\n",
        "for i in range (0,len(df)):\n",
        "  temp_list = []\n",
        "  temp_list.append(df.y_hat_minus1[i])\n",
        "  temp_list.append(df.predictions[i])\n",
        "  temp_list.append(df.y_hat_plus1[i])\n",
        "  set_status.append(temp_list)\n",
        "df['stat_comp'] = set_status\n",
        "\n"
      ],
      "metadata": {
        "id": "nthhB4UPzOvX"
      },
      "execution_count": null,
      "outputs": []
    },
    {
      "cell_type": "code",
      "source": [
        "df.head()"
      ],
      "metadata": {
        "colab": {
          "base_uri": "https://localhost:8080/",
          "height": 270
        },
        "id": "C3zEb6bTw9cM",
        "outputId": "c296b537-61dc-4425-90fd-207b83d35aef"
      },
      "execution_count": null,
      "outputs": [
        {
          "output_type": "execute_result",
          "data": {
            "text/plain": [
              "   status  number_of_stories       age  roof_mwfrs_enc  wall_cladding_enc  \\\n",
              "0     4.0               0.04  0.194915    8.600093e-09           0.000000   \n",
              "1     1.0               0.04  0.271186    8.600093e-09           0.000099   \n",
              "2     3.0               0.04  0.423729    8.600093e-09           0.104228   \n",
              "3     2.0               0.04  0.661017    8.600093e-09           0.000099   \n",
              "4     1.0               0.04  0.533898    8.600093e-09           0.000062   \n",
              "\n",
              "   roof_system_enc  roof_cover_enc  foundation_type  wall_structure  \\\n",
              "0         0.000681        0.000999         0.466667        0.777778   \n",
              "1         0.000703        0.000085         0.466667        0.777778   \n",
              "2         0.000648        0.001033         0.466667        0.777778   \n",
              "3         0.000681        0.001033         0.466667        0.583333   \n",
              "4         0.000681        0.052228         0.466667        0.583333   \n",
              "\n",
              "   soffit_type  large_door_present  predictions  y_hat_minus1  y_hat_plus1  \\\n",
              "0          0.2                 0.0            2             1            3   \n",
              "1          1.0                 1.0            1             0            2   \n",
              "2          0.8                 0.0            3             2            4   \n",
              "3          0.6                 0.0            2             1            3   \n",
              "4          0.8                 0.0            2             1            3   \n",
              "\n",
              "   stat_comp  list_minus  list_plus  \n",
              "0  [1, 2, 3]         2.0        2.0  \n",
              "1  [0, 1, 2]         1.0        1.0  \n",
              "2  [2, 3, 4]         3.0        3.0  \n",
              "3  [1, 2, 3]         2.0        2.0  \n",
              "4  [1, 2, 3]         1.0        1.0  "
            ],
            "text/html": [
              "\n",
              "  <div id=\"df-736b5708-9497-40ae-adae-4b41b15778be\">\n",
              "    <div class=\"colab-df-container\">\n",
              "      <div>\n",
              "<style scoped>\n",
              "    .dataframe tbody tr th:only-of-type {\n",
              "        vertical-align: middle;\n",
              "    }\n",
              "\n",
              "    .dataframe tbody tr th {\n",
              "        vertical-align: top;\n",
              "    }\n",
              "\n",
              "    .dataframe thead th {\n",
              "        text-align: right;\n",
              "    }\n",
              "</style>\n",
              "<table border=\"1\" class=\"dataframe\">\n",
              "  <thead>\n",
              "    <tr style=\"text-align: right;\">\n",
              "      <th></th>\n",
              "      <th>status</th>\n",
              "      <th>number_of_stories</th>\n",
              "      <th>age</th>\n",
              "      <th>roof_mwfrs_enc</th>\n",
              "      <th>wall_cladding_enc</th>\n",
              "      <th>roof_system_enc</th>\n",
              "      <th>roof_cover_enc</th>\n",
              "      <th>foundation_type</th>\n",
              "      <th>wall_structure</th>\n",
              "      <th>soffit_type</th>\n",
              "      <th>large_door_present</th>\n",
              "      <th>predictions</th>\n",
              "      <th>y_hat_minus1</th>\n",
              "      <th>y_hat_plus1</th>\n",
              "      <th>stat_comp</th>\n",
              "      <th>list_minus</th>\n",
              "      <th>list_plus</th>\n",
              "    </tr>\n",
              "  </thead>\n",
              "  <tbody>\n",
              "    <tr>\n",
              "      <th>0</th>\n",
              "      <td>4.0</td>\n",
              "      <td>0.04</td>\n",
              "      <td>0.194915</td>\n",
              "      <td>8.600093e-09</td>\n",
              "      <td>0.000000</td>\n",
              "      <td>0.000681</td>\n",
              "      <td>0.000999</td>\n",
              "      <td>0.466667</td>\n",
              "      <td>0.777778</td>\n",
              "      <td>0.2</td>\n",
              "      <td>0.0</td>\n",
              "      <td>2</td>\n",
              "      <td>1</td>\n",
              "      <td>3</td>\n",
              "      <td>[1, 2, 3]</td>\n",
              "      <td>2.0</td>\n",
              "      <td>2.0</td>\n",
              "    </tr>\n",
              "    <tr>\n",
              "      <th>1</th>\n",
              "      <td>1.0</td>\n",
              "      <td>0.04</td>\n",
              "      <td>0.271186</td>\n",
              "      <td>8.600093e-09</td>\n",
              "      <td>0.000099</td>\n",
              "      <td>0.000703</td>\n",
              "      <td>0.000085</td>\n",
              "      <td>0.466667</td>\n",
              "      <td>0.777778</td>\n",
              "      <td>1.0</td>\n",
              "      <td>1.0</td>\n",
              "      <td>1</td>\n",
              "      <td>0</td>\n",
              "      <td>2</td>\n",
              "      <td>[0, 1, 2]</td>\n",
              "      <td>1.0</td>\n",
              "      <td>1.0</td>\n",
              "    </tr>\n",
              "    <tr>\n",
              "      <th>2</th>\n",
              "      <td>3.0</td>\n",
              "      <td>0.04</td>\n",
              "      <td>0.423729</td>\n",
              "      <td>8.600093e-09</td>\n",
              "      <td>0.104228</td>\n",
              "      <td>0.000648</td>\n",
              "      <td>0.001033</td>\n",
              "      <td>0.466667</td>\n",
              "      <td>0.777778</td>\n",
              "      <td>0.8</td>\n",
              "      <td>0.0</td>\n",
              "      <td>3</td>\n",
              "      <td>2</td>\n",
              "      <td>4</td>\n",
              "      <td>[2, 3, 4]</td>\n",
              "      <td>3.0</td>\n",
              "      <td>3.0</td>\n",
              "    </tr>\n",
              "    <tr>\n",
              "      <th>3</th>\n",
              "      <td>2.0</td>\n",
              "      <td>0.04</td>\n",
              "      <td>0.661017</td>\n",
              "      <td>8.600093e-09</td>\n",
              "      <td>0.000099</td>\n",
              "      <td>0.000681</td>\n",
              "      <td>0.001033</td>\n",
              "      <td>0.466667</td>\n",
              "      <td>0.583333</td>\n",
              "      <td>0.6</td>\n",
              "      <td>0.0</td>\n",
              "      <td>2</td>\n",
              "      <td>1</td>\n",
              "      <td>3</td>\n",
              "      <td>[1, 2, 3]</td>\n",
              "      <td>2.0</td>\n",
              "      <td>2.0</td>\n",
              "    </tr>\n",
              "    <tr>\n",
              "      <th>4</th>\n",
              "      <td>1.0</td>\n",
              "      <td>0.04</td>\n",
              "      <td>0.533898</td>\n",
              "      <td>8.600093e-09</td>\n",
              "      <td>0.000062</td>\n",
              "      <td>0.000681</td>\n",
              "      <td>0.052228</td>\n",
              "      <td>0.466667</td>\n",
              "      <td>0.583333</td>\n",
              "      <td>0.8</td>\n",
              "      <td>0.0</td>\n",
              "      <td>2</td>\n",
              "      <td>1</td>\n",
              "      <td>3</td>\n",
              "      <td>[1, 2, 3]</td>\n",
              "      <td>1.0</td>\n",
              "      <td>1.0</td>\n",
              "    </tr>\n",
              "  </tbody>\n",
              "</table>\n",
              "</div>\n",
              "      <button class=\"colab-df-convert\" onclick=\"convertToInteractive('df-736b5708-9497-40ae-adae-4b41b15778be')\"\n",
              "              title=\"Convert this dataframe to an interactive table.\"\n",
              "              style=\"display:none;\">\n",
              "        \n",
              "  <svg xmlns=\"http://www.w3.org/2000/svg\" height=\"24px\"viewBox=\"0 0 24 24\"\n",
              "       width=\"24px\">\n",
              "    <path d=\"M0 0h24v24H0V0z\" fill=\"none\"/>\n",
              "    <path d=\"M18.56 5.44l.94 2.06.94-2.06 2.06-.94-2.06-.94-.94-2.06-.94 2.06-2.06.94zm-11 1L8.5 8.5l.94-2.06 2.06-.94-2.06-.94L8.5 2.5l-.94 2.06-2.06.94zm10 10l.94 2.06.94-2.06 2.06-.94-2.06-.94-.94-2.06-.94 2.06-2.06.94z\"/><path d=\"M17.41 7.96l-1.37-1.37c-.4-.4-.92-.59-1.43-.59-.52 0-1.04.2-1.43.59L10.3 9.45l-7.72 7.72c-.78.78-.78 2.05 0 2.83L4 21.41c.39.39.9.59 1.41.59.51 0 1.02-.2 1.41-.59l7.78-7.78 2.81-2.81c.8-.78.8-2.07 0-2.86zM5.41 20L4 18.59l7.72-7.72 1.47 1.35L5.41 20z\"/>\n",
              "  </svg>\n",
              "      </button>\n",
              "      \n",
              "  <style>\n",
              "    .colab-df-container {\n",
              "      display:flex;\n",
              "      flex-wrap:wrap;\n",
              "      gap: 12px;\n",
              "    }\n",
              "\n",
              "    .colab-df-convert {\n",
              "      background-color: #E8F0FE;\n",
              "      border: none;\n",
              "      border-radius: 50%;\n",
              "      cursor: pointer;\n",
              "      display: none;\n",
              "      fill: #1967D2;\n",
              "      height: 32px;\n",
              "      padding: 0 0 0 0;\n",
              "      width: 32px;\n",
              "    }\n",
              "\n",
              "    .colab-df-convert:hover {\n",
              "      background-color: #E2EBFA;\n",
              "      box-shadow: 0px 1px 2px rgba(60, 64, 67, 0.3), 0px 1px 3px 1px rgba(60, 64, 67, 0.15);\n",
              "      fill: #174EA6;\n",
              "    }\n",
              "\n",
              "    [theme=dark] .colab-df-convert {\n",
              "      background-color: #3B4455;\n",
              "      fill: #D2E3FC;\n",
              "    }\n",
              "\n",
              "    [theme=dark] .colab-df-convert:hover {\n",
              "      background-color: #434B5C;\n",
              "      box-shadow: 0px 1px 3px 1px rgba(0, 0, 0, 0.15);\n",
              "      filter: drop-shadow(0px 1px 2px rgba(0, 0, 0, 0.3));\n",
              "      fill: #FFFFFF;\n",
              "    }\n",
              "  </style>\n",
              "\n",
              "      <script>\n",
              "        const buttonEl =\n",
              "          document.querySelector('#df-736b5708-9497-40ae-adae-4b41b15778be button.colab-df-convert');\n",
              "        buttonEl.style.display =\n",
              "          google.colab.kernel.accessAllowed ? 'block' : 'none';\n",
              "\n",
              "        async function convertToInteractive(key) {\n",
              "          const element = document.querySelector('#df-736b5708-9497-40ae-adae-4b41b15778be');\n",
              "          const dataTable =\n",
              "            await google.colab.kernel.invokeFunction('convertToInteractive',\n",
              "                                                     [key], {});\n",
              "          if (!dataTable) return;\n",
              "\n",
              "          const docLinkHtml = 'Like what you see? Visit the ' +\n",
              "            '<a target=\"_blank\" href=https://colab.research.google.com/notebooks/data_table.ipynb>data table notebook</a>'\n",
              "            + ' to learn more about interactive tables.';\n",
              "          element.innerHTML = '';\n",
              "          dataTable['output_type'] = 'display_data';\n",
              "          await google.colab.output.renderOutput(dataTable, element);\n",
              "          const docLink = document.createElement('div');\n",
              "          docLink.innerHTML = docLinkHtml;\n",
              "          element.appendChild(docLink);\n",
              "        }\n",
              "      </script>\n",
              "    </div>\n",
              "  </div>\n",
              "  "
            ]
          },
          "metadata": {},
          "execution_count": 23
        }
      ]
    },
    {
      "cell_type": "code",
      "source": [
        "cnt = 0\n",
        "\n",
        "for k in range (0,len(df.status)):\n",
        "  if df.status[k] in df.stat_comp[k]:\n",
        "    cnt+=1\n",
        "cnt"
      ],
      "metadata": {
        "colab": {
          "base_uri": "https://localhost:8080/"
        },
        "id": "5mbGZSj03cZF",
        "outputId": "e53b4148-03ca-4877-867c-c542955b300c"
      },
      "execution_count": null,
      "outputs": [
        {
          "output_type": "execute_result",
          "data": {
            "text/plain": [
              "997"
            ]
          },
          "metadata": {},
          "execution_count": 21
        }
      ]
    },
    {
      "cell_type": "code",
      "source": [
        "(cnt/len(df))*100"
      ],
      "metadata": {
        "colab": {
          "base_uri": "https://localhost:8080/"
        },
        "id": "opz4B0w14RDn",
        "outputId": "eefd0b66-9390-4901-c9c4-fe07268d5666"
      },
      "execution_count": null,
      "outputs": [
        {
          "output_type": "execute_result",
          "data": {
            "text/plain": [
              "91.13345521023766"
            ]
          },
          "metadata": {},
          "execution_count": 22
        }
      ]
    },
    {
      "cell_type": "code",
      "source": [
        "cnt = 0\n",
        "for k in range (0,len(df.status)):\n",
        "   if df.status[k]== df.y_hat_plus1[k]:\n",
        "     cnt+=1\n",
        "(cnt/len(df))*100"
      ],
      "metadata": {
        "colab": {
          "base_uri": "https://localhost:8080/"
        },
        "id": "AMBVj-hI7HfI",
        "outputId": "75ae5589-8a64-497f-fb93-298a4f63196f"
      },
      "execution_count": null,
      "outputs": [
        {
          "output_type": "execute_result",
          "data": {
            "text/plain": [
              "5.6672760511883"
            ]
          },
          "metadata": {},
          "execution_count": 130
        }
      ]
    },
    {
      "cell_type": "code",
      "source": [
        "import seaborn as sns\n",
        "sns.distplot(y_hat_plus1)"
      ],
      "metadata": {
        "colab": {
          "base_uri": "https://localhost:8080/",
          "height": 337
        },
        "id": "eyr9KXuuztHU",
        "outputId": "bd1f70c7-9961-4d2f-faea-8bf7d2b21bd5"
      },
      "execution_count": null,
      "outputs": [
        {
          "output_type": "stream",
          "name": "stderr",
          "text": [
            "/usr/local/lib/python3.7/dist-packages/seaborn/distributions.py:2619: FutureWarning: `distplot` is a deprecated function and will be removed in a future version. Please adapt your code to use either `displot` (a figure-level function with similar flexibility) or `histplot` (an axes-level function for histograms).\n",
            "  warnings.warn(msg, FutureWarning)\n"
          ]
        },
        {
          "output_type": "execute_result",
          "data": {
            "text/plain": [
              "<matplotlib.axes._subplots.AxesSubplot at 0x7f76e3c8f110>"
            ]
          },
          "metadata": {},
          "execution_count": 81
        },
        {
          "output_type": "display_data",
          "data": {
            "text/plain": [
              "<Figure size 432x288 with 1 Axes>"
            ],
            "image/png": "[encoded data removed]"
          },
          "metadata": {
            "needs_background": "light"
          }
        }
      ]
    },
    {
      "cell_type": "code",
      "source": [
        "sns.distplot(y_test)"
      ],
      "metadata": {
        "colab": {
          "base_uri": "https://localhost:8080/",
          "height": 337
        },
        "id": "WJdGJ2V7yZuX",
        "outputId": "5bf99c43-5e43-4c29-aa74-724f75cbc2ec"
      },
      "execution_count": null,
      "outputs": [
        {
          "output_type": "stream",
          "name": "stderr",
          "text": [
            "/usr/local/lib/python3.7/dist-packages/seaborn/distributions.py:2619: FutureWarning: `distplot` is a deprecated function and will be removed in a future version. Please adapt your code to use either `displot` (a figure-level function with similar flexibility) or `histplot` (an axes-level function for histograms).\n",
            "  warnings.warn(msg, FutureWarning)\n"
          ]
        },
        {
          "output_type": "execute_result",
          "data": {
            "text/plain": [
              "<matplotlib.axes._subplots.AxesSubplot at 0x7f76e3b7a9d0>"
            ]
          },
          "metadata": {},
          "execution_count": 82
        },
        {
          "output_type": "display_data",
          "data": {
            "text/plain": [
              "<Figure size 432x288 with 1 Axes>"
            ],
            "image/png": "[encoded data removed]"
          },
          "metadata": {
            "needs_background": "light"
          }
        }
      ]
    },
    {
      "cell_type": "code",
      "source": [
        "y_test.value_counts()"
      ],
      "metadata": {
        "colab": {
          "base_uri": "https://localhost:8080/"
        },
        "id": "-l937Xwy0SXG",
        "outputId": "23830147-4a4d-4ab1-fb0a-487b053ddafb"
      },
      "execution_count": null,
      "outputs": [
        {
          "output_type": "execute_result",
          "data": {
            "text/plain": [
              "status\n",
              "1         248\n",
              "2         163\n",
              "4         137\n",
              "3          92\n",
              "0          90\n",
              "dtype: int64"
            ]
          },
          "metadata": {},
          "execution_count": 83
        }
      ]
    },
    {
      "cell_type": "code",
      "source": [
        "def freq(lst):\n",
        "    d = {}\n",
        "    for i in lst:\n",
        "        if d.get(i):\n",
        "            d[i] += 1\n",
        "        else:\n",
        "            d[i] = 1\n",
        "    return d\n",
        "freq(predictions)"
      ],
      "metadata": {
        "colab": {
          "base_uri": "https://localhost:8080/"
        },
        "id": "M9mcw89m0bC4",
        "outputId": "63470e36-9ac2-47fa-e3a7-97d90243206e"
      },
      "execution_count": null,
      "outputs": [
        {
          "output_type": "execute_result",
          "data": {
            "text/plain": [
              "{1: 302, 2: 167, 4: 162, 0: 58, 3: 41}"
            ]
          },
          "metadata": {},
          "execution_count": 84
        }
      ]
    },
    {
      "cell_type": "code",
      "source": [
        "import numpy as np\n",
        "\n",
        "addone=[]\n",
        "for i in predictions:\n",
        "  if i==1:\n",
        "    i+=2\n",
        "    addone.append(i)\n",
        "  else:\n",
        "    addone.append(i)\n",
        "addone=np.array(addone)"
      ],
      "metadata": {
        "id": "8YvRTJUVxPsV"
      },
      "execution_count": null,
      "outputs": []
    },
    {
      "cell_type": "code",
      "source": [
        "y_pred1 = y_pred+1\n",
        "# y_pred=y_pred.tolist()\n",
        "# # for i in y_pred:\n",
        "# #   if i==1:\n",
        "# #     i +=1\n",
        "# #   else:\n",
        "# #     i_=\n",
        "# y_pred1= [x+1 for x in y_pred if x!=5]\n",
        "# y_pred1"
      ],
      "metadata": {
        "id": "8zpH79N6o0HN"
      },
      "execution_count": null,
      "outputs": []
    },
    {
      "cell_type": "code",
      "source": [
        "\n",
        "accuracy = accuracy_score(addone,y_test)\n",
        "print(\"Accuracy: %.2f%%\" % (accuracy * 100.0))\n",
        "print(confusion_matrix(addone,y_test))"
      ],
      "metadata": {
        "colab": {
          "base_uri": "https://localhost:8080/"
        },
        "id": "n57njAXxo_GG",
        "outputId": "cd3eb751-f4ed-4a0f-e562-2bbe6a88b1cd"
      },
      "execution_count": null,
      "outputs": [
        {
          "output_type": "stream",
          "name": "stdout",
          "text": [
            "Accuracy: 29.45%\n",
            "[[ 13  13   8   1   1]\n",
            " [  0   0   0   0   0]\n",
            " [ 12  55  56  21  17]\n",
            " [ 48 154  80  51  24]\n",
            " [ 17  26  19  19  95]]\n"
          ]
        }
      ]
    },
    {
      "cell_type": "code",
      "source": [
        "from sklearn.metrics import classification_report\n",
        "import numpy as np\n",
        "\n",
        "# Y_test = np.argmax(y_test, axis=1) # Convert one-hot to index\n",
        "y_pred = model.predict(X_test)\n",
        "print(classification_report(y_test, y_pred))"
      ],
      "metadata": {
        "colab": {
          "base_uri": "https://localhost:8080/"
        },
        "id": "437-gkI5Z4nD",
        "outputId": "0fdfd83b-a947-433a-aa79-318283b2f1ff"
      },
      "execution_count": null,
      "outputs": [
        {
          "output_type": "stream",
          "name": "stdout",
          "text": [
            "              precision    recall  f1-score   support\n",
            "\n",
            "           0       0.40      0.21      0.27        58\n",
            "           1       0.52      0.64      0.57       152\n",
            "           2       0.35      0.29      0.32       100\n",
            "           3       0.57      0.21      0.30        58\n",
            "           4       0.49      0.77      0.60        75\n",
            "\n",
            "    accuracy                           0.47       443\n",
            "   macro avg       0.46      0.42      0.41       443\n",
            "weighted avg       0.47      0.47      0.45       443\n",
            "\n"
          ]
        }
      ]
    },
    {
      "cell_type": "code",
      "source": [
        "X = df[['status']]\n",
        "Y = df[['list_minus']]\n",
        "\n",
        "# split data into train and test sets\n",
        "seed = 8\n",
        "test_size = 0.2\n",
        "X_train, X_test, y_train, y_test = train_test_split(X, Y, test_size=test_size, random_state=seed)\n",
        "print(classification_report(y_test, X_test))"
      ],
      "metadata": {
        "colab": {
          "base_uri": "https://localhost:8080/"
        },
        "id": "RUGlBRVpaXle",
        "outputId": "ea2b326d-17f2-4da0-d6ba-5a13b70aa39f"
      },
      "execution_count": null,
      "outputs": [
        {
          "output_type": "stream",
          "name": "stdout",
          "text": [
            "              precision    recall  f1-score   support\n",
            "\n",
            "         0.0       0.50      0.87      0.63        15\n",
            "         1.0       0.91      0.63      0.74        67\n",
            "         2.0       0.55      0.60      0.57        47\n",
            "         3.0       0.59      0.73      0.66        30\n",
            "         4.0       0.73      0.72      0.72        60\n",
            "\n",
            "    accuracy                           0.68       219\n",
            "   macro avg       0.66      0.71      0.67       219\n",
            "weighted avg       0.71      0.68      0.68       219\n",
            "\n"
          ]
        }
      ]
    },
    {
      "cell_type": "code",
      "source": [
        "X = df[['status']]\n",
        "Y = df[['list_plus']]\n",
        "\n",
        "# split data into train and test sets\n",
        "seed = 8\n",
        "test_size = 0.2\n",
        "X_train, X_test, y_train, y_test = train_test_split(X, Y, test_size=test_size, random_state=seed)\n",
        "print(classification_report(y_test, X_test))"
      ],
      "metadata": {
        "colab": {
          "base_uri": "https://localhost:8080/"
        },
        "id": "tNObCnj2NVmN",
        "outputId": "434092b8-ccf1-4542-94fa-c694b751bae3"
      },
      "execution_count": null,
      "outputs": [
        {
          "output_type": "stream",
          "name": "stdout",
          "text": [
            "              precision    recall  f1-score   support\n",
            "\n",
            "         0.0       0.19      0.83      0.31         6\n",
            "         1.0       0.59      0.63      0.61        43\n",
            "         2.0       0.82      0.63      0.71        67\n",
            "         3.0       0.68      0.83      0.75        30\n",
            "         4.0       0.83      0.67      0.74        73\n",
            "\n",
            "    accuracy                           0.68       219\n",
            "   macro avg       0.62      0.72      0.62       219\n",
            "weighted avg       0.74      0.68      0.70       219\n",
            "\n"
          ]
        }
      ]
    },
    {
      "cell_type": "code",
      "source": [
        "y_test\n"
      ],
      "metadata": {
        "colab": {
          "base_uri": "https://localhost:8080/",
          "height": 424
        },
        "id": "t5TOvj7vOwj2",
        "outputId": "ce21a5e8-acb8-478b-ee96-341c106ba030"
      },
      "execution_count": null,
      "outputs": [
        {
          "output_type": "execute_result",
          "data": {
            "text/plain": [
              "     list_minus\n",
              "200         1.0\n",
              "900         0.0\n",
              "578         4.0\n",
              "90          2.0\n",
              "639         0.0\n",
              "..          ...\n",
              "495         1.0\n",
              "766         0.0\n",
              "866         0.0\n",
              "35          2.0\n",
              "50          3.0\n",
              "\n",
              "[219 rows x 1 columns]"
            ],
            "text/html": [
              "\n",
              "  <div id=\"df-ca800660-3e3c-4d0b-b748-485577527c91\">\n",
              "    <div class=\"colab-df-container\">\n",
              "      <div>\n",
              "<style scoped>\n",
              "    .dataframe tbody tr th:only-of-type {\n",
              "        vertical-align: middle;\n",
              "    }\n",
              "\n",
              "    .dataframe tbody tr th {\n",
              "        vertical-align: top;\n",
              "    }\n",
              "\n",
              "    .dataframe thead th {\n",
              "        text-align: right;\n",
              "    }\n",
              "</style>\n",
              "<table border=\"1\" class=\"dataframe\">\n",
              "  <thead>\n",
              "    <tr style=\"text-align: right;\">\n",
              "      <th></th>\n",
              "      <th>list_minus</th>\n",
              "    </tr>\n",
              "  </thead>\n",
              "  <tbody>\n",
              "    <tr>\n",
              "      <th>200</th>\n",
              "      <td>1.0</td>\n",
              "    </tr>\n",
              "    <tr>\n",
              "      <th>900</th>\n",
              "      <td>0.0</td>\n",
              "    </tr>\n",
              "    <tr>\n",
              "      <th>578</th>\n",
              "      <td>4.0</td>\n",
              "    </tr>\n",
              "    <tr>\n",
              "      <th>90</th>\n",
              "      <td>2.0</td>\n",
              "    </tr>\n",
              "    <tr>\n",
              "      <th>639</th>\n",
              "      <td>0.0</td>\n",
              "    </tr>\n",
              "    <tr>\n",
              "      <th>...</th>\n",
              "      <td>...</td>\n",
              "    </tr>\n",
              "    <tr>\n",
              "      <th>495</th>\n",
              "      <td>1.0</td>\n",
              "    </tr>\n",
              "    <tr>\n",
              "      <th>766</th>\n",
              "      <td>0.0</td>\n",
              "    </tr>\n",
              "    <tr>\n",
              "      <th>866</th>\n",
              "      <td>0.0</td>\n",
              "    </tr>\n",
              "    <tr>\n",
              "      <th>35</th>\n",
              "      <td>2.0</td>\n",
              "    </tr>\n",
              "    <tr>\n",
              "      <th>50</th>\n",
              "      <td>3.0</td>\n",
              "    </tr>\n",
              "  </tbody>\n",
              "</table>\n",
              "<p>219 rows × 1 columns</p>\n",
              "</div>\n",
              "      <button class=\"colab-df-convert\" onclick=\"convertToInteractive('df-ca800660-3e3c-4d0b-b748-485577527c91')\"\n",
              "              title=\"Convert this dataframe to an interactive table.\"\n",
              "              style=\"display:none;\">\n",
              "        \n",
              "  <svg xmlns=\"http://www.w3.org/2000/svg\" height=\"24px\"viewBox=\"0 0 24 24\"\n",
              "       width=\"24px\">\n",
              "    <path d=\"M0 0h24v24H0V0z\" fill=\"none\"/>\n",
              "    <path d=\"M18.56 5.44l.94 2.06.94-2.06 2.06-.94-2.06-.94-.94-2.06-.94 2.06-2.06.94zm-11 1L8.5 8.5l.94-2.06 2.06-.94-2.06-.94L8.5 2.5l-.94 2.06-2.06.94zm10 10l.94 2.06.94-2.06 2.06-.94-2.06-.94-.94-2.06-.94 2.06-2.06.94z\"/><path d=\"M17.41 7.96l-1.37-1.37c-.4-.4-.92-.59-1.43-.59-.52 0-1.04.2-1.43.59L10.3 9.45l-7.72 7.72c-.78.78-.78 2.05 0 2.83L4 21.41c.39.39.9.59 1.41.59.51 0 1.02-.2 1.41-.59l7.78-7.78 2.81-2.81c.8-.78.8-2.07 0-2.86zM5.41 20L4 18.59l7.72-7.72 1.47 1.35L5.41 20z\"/>\n",
              "  </svg>\n",
              "      </button>\n",
              "      \n",
              "  <style>\n",
              "    .colab-df-container {\n",
              "      display:flex;\n",
              "      flex-wrap:wrap;\n",
              "      gap: 12px;\n",
              "    }\n",
              "\n",
              "    .colab-df-convert {\n",
              "      background-color: #E8F0FE;\n",
              "      border: none;\n",
              "      border-radius: 50%;\n",
              "      cursor: pointer;\n",
              "      display: none;\n",
              "      fill: #1967D2;\n",
              "      height: 32px;\n",
              "      padding: 0 0 0 0;\n",
              "      width: 32px;\n",
              "    }\n",
              "\n",
              "    .colab-df-convert:hover {\n",
              "      background-color: #E2EBFA;\n",
              "      box-shadow: 0px 1px 2px rgba(60, 64, 67, 0.3), 0px 1px 3px 1px rgba(60, 64, 67, 0.15);\n",
              "      fill: #174EA6;\n",
              "    }\n",
              "\n",
              "    [theme=dark] .colab-df-convert {\n",
              "      background-color: #3B4455;\n",
              "      fill: #D2E3FC;\n",
              "    }\n",
              "\n",
              "    [theme=dark] .colab-df-convert:hover {\n",
              "      background-color: #434B5C;\n",
              "      box-shadow: 0px 1px 3px 1px rgba(0, 0, 0, 0.15);\n",
              "      filter: drop-shadow(0px 1px 2px rgba(0, 0, 0, 0.3));\n",
              "      fill: #FFFFFF;\n",
              "    }\n",
              "  </style>\n",
              "\n",
              "      <script>\n",
              "        const buttonEl =\n",
              "          document.querySelector('#df-ca800660-3e3c-4d0b-b748-485577527c91 button.colab-df-convert');\n",
              "        buttonEl.style.display =\n",
              "          google.colab.kernel.accessAllowed ? 'block' : 'none';\n",
              "\n",
              "        async function convertToInteractive(key) {\n",
              "          const element = document.querySelector('#df-ca800660-3e3c-4d0b-b748-485577527c91');\n",
              "          const dataTable =\n",
              "            await google.colab.kernel.invokeFunction('convertToInteractive',\n",
              "                                                     [key], {});\n",
              "          if (!dataTable) return;\n",
              "\n",
              "          const docLinkHtml = 'Like what you see? Visit the ' +\n",
              "            '<a target=\"_blank\" href=https://colab.research.google.com/notebooks/data_table.ipynb>data table notebook</a>'\n",
              "            + ' to learn more about interactive tables.';\n",
              "          element.innerHTML = '';\n",
              "          dataTable['output_type'] = 'display_data';\n",
              "          await google.colab.output.renderOutput(dataTable, element);\n",
              "          const docLink = document.createElement('div');\n",
              "          docLink.innerHTML = docLinkHtml;\n",
              "          element.appendChild(docLink);\n",
              "        }\n",
              "      </script>\n",
              "    </div>\n",
              "  </div>\n",
              "  "
            ]
          },
          "metadata": {},
          "execution_count": 168
        }
      ]
    },
    {
      "cell_type": "markdown",
      "source": [
        "## with KFold"
      ],
      "metadata": {
        "id": "DUYWNneYmWFA"
      }
    },
    {
      "cell_type": "code",
      "source": [
        "from xgboost.core import Booster\n",
        "from xgboost import XGBClassifier\n",
        "from sklearn.model_selection import train_test_split\n",
        "from sklearn.metrics import accuracy_score,confusion_matrix\n",
        "from sklearn.model_selection import GridSearchCV\n",
        "from sklearn.model_selection import KFold,cross_val_score\n",
        "\n",
        "# split data into X and y\n",
        "X = df[['number_of_stories',\t'age',\t'ff_elevation',\t'wc_encoded',\t'roof_encoded']]\n",
        "Y = df[['status']]\n",
        "\n",
        "# split data into train and test sets\n",
        "seed = 7\n",
        "test_size = 0.33\n",
        "X_train, X_test, y_train, y_test = train_test_split(X, Y, test_size=test_size, random_state=seed)\n",
        "\n",
        "# fit model no training data\n",
        "model = XGBClassifier(learning_rate=0.01, n_estimators=600, nthread=2,booster='gbtree')\n",
        "\n",
        "kfold = KFold(n_splits=10)\n",
        "results = cross_val_score(model, X, Y, cv=kfold)\n",
        "print(\"Accuracy: %.2f%% (%.2f%%)\" % (results.mean()*100, results.std()*100))\n",
        "# print(confusion_matrix(y_pred,y_test))"
      ],
      "metadata": {
        "colab": {
          "base_uri": "https://localhost:8080/"
        },
        "id": "IdPskLp8g3iE",
        "outputId": "f44dd825-8aa0-4b0e-87d2-911a969a9116"
      },
      "execution_count": null,
      "outputs": [
        {
          "output_type": "stream",
          "name": "stdout",
          "text": [
            "Accuracy: 37.25% (3.35%)\n"
          ]
        }
      ]
    },
    {
      "cell_type": "markdown",
      "source": [
        "## PCA Reduction"
      ],
      "metadata": {
        "id": "iNrinYOMdMos"
      }
    },
    {
      "cell_type": "code",
      "source": [
        "from sklearn.decomposition import PCA\n",
        "from sklearn.preprocessing import StandardScaler\n",
        "from sklearn.decomposition import PCA\n",
        "from xgboost.core import Booster\n",
        "from xgboost import XGBClassifier\n",
        "from sklearn.model_selection import train_test_split\n",
        "from sklearn.metrics import accuracy_score,confusion_matrix\n",
        "from sklearn.model_selection import GridSearchCV\n",
        "from sklearn.model_selection import KFold,cross_val_score\n",
        "\n",
        "features = list(df.columns[1:])\n",
        "\n",
        "# Separating out the features\n",
        "x = df.loc[:, features].values\n",
        "# Separating out the target\n",
        "y = df.loc[:,['status']].values\n",
        "# Standardizing the features\n",
        "x = StandardScaler().fit_transform(x)\n",
        "\n",
        "pca = PCA(n_components=4)\n",
        "#pca = PCA(n_components=8)\n",
        "principalComponents = pca.fit_transform(x)\n",
        "principalDf = pd.DataFrame(data = principalComponents\n",
        "             , columns = ['principal component 1', 'principal component 2','principal component 3','principal component 4'])\n",
        "#principalDf = pd.DataFrame(data = principalComponents\n",
        "#             , columns = ['principal component 1', 'principal component 2','principal component 3','principal component 4','principal component 5', 'principal component 6','principal component 7','principal component 8'])\n",
        "finalDf = pd.concat([principalDf, df[['status']]], axis = 1)\n",
        "\n",
        "\n",
        "# split data into X and y\n",
        "X = finalDf[['principal component 1', 'principal component 2','principal component 3','principal component 4']]\n",
        "#X = finalDf[['principal component 1', 'principal component 2','principal component 3','principal component 4','principal component 5', 'principal component 6','principal component 7','principal component 8']]\n",
        "Y = finalDf[['status']]\n",
        "\n",
        "# split data into train and test sets\n",
        "seed = 8\n",
        "test_size = 0.2\n",
        "X_train, X_test, y_train, y_test = train_test_split(X, Y, test_size=test_size, random_state=seed)\n",
        "\n",
        "# fit model no training data\n",
        "model = XGBClassifier(learning_rate=0.01, n_estimators=600, nthread=2,booster='gbtree')\n",
        "model.fit(X_train, y_train)\n",
        "\n",
        "# make predictions for test data\n",
        "y_pred = model.predict(X_test)\n",
        "predictions = [round(value) for value in y_pred]\n",
        "\n",
        "# evaluate predictions\n",
        "accuracy = accuracy_score(y_test, predictions)\n",
        "print(\"Accuracy: %.2f%%\" % (accuracy * 100.0))\n",
        "print(confusion_matrix(y_pred,y_test))"
      ],
      "metadata": {
        "id": "QNZdZsMcEx4n"
      },
      "execution_count": null,
      "outputs": []
    }
  ]
}